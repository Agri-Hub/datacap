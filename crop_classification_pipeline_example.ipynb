{
 "cells": [
  {
   "cell_type": "markdown",
   "id": "adjacent-wages",
   "metadata": {},
   "source": [
    "# Crop Classification\n",
    "The current notebooks presents a real-life CAP scenario related to crop classification utilizing Open Data Cube and Sentinel Data. It is fully automated as the entire pipeline starting from downloading products to validating the results takes places via Python. Please check README file for the required step of setting up the Open Data Cube and installing the required libraries"
   ]
  },
  {
   "cell_type": "markdown",
   "id": "portable-amplifier",
   "metadata": {},
   "source": [
    "![alt text](https://www.mdpi.com/remotesensing/remotesensing-10-00911/article_deploy/html/images/remotesensing-10-00911-g005.png)"
   ]
  },
  {
   "cell_type": "markdown",
   "id": "photographic-writer",
   "metadata": {},
   "source": [
    "## Core Functionalities of the Scenario\n",
    "1. Download Sentinel data\n",
    "2. Preprocess Data\n",
    "3. Index Data to the ODC\n",
    "4. Create Feature Space\n",
    "5. Classification\n",
    "6. Validation"
   ]
  },
  {
   "cell_type": "code",
   "execution_count": null,
   "id": "inappropriate-costa",
   "metadata": {},
   "outputs": [],
   "source": [
    "from utilities.agri_utilities import *\n",
    "from utilities.utils import *"
   ]
  },
  {
   "cell_type": "markdown",
   "id": "assigned-narrative",
   "metadata": {},
   "source": [
    "## Step 1 - Download data\n",
    "Sentinel-1 or/and Sentinel-2 data are required so to monitor CAP. Thus, we need to download data from one of the many sources. CreoDIAS has been selected as the primary source for downloading data as it provides a long archive of both Sentinel-1 and Sentinel-2 products. \n",
    "\n",
    "![alt text](https://creodias.eu/documents/20195/78174/d2.png/6055d468-0e19-4014-b828-a753da4a0e03?t=1555324588302)\n",
    "\n",
    "\n",
    "To use this function users must register to CreoDIAs in order to gain access based on credentials. When the download is finished, the structure of files in the output directory is the following:\n",
    "* year\n",
    "    * tile name\n",
    "        * month\n",
    "            * safe folders"
   ]
  },
  {
   "cell_type": "markdown",
   "id": "available-maria",
   "metadata": {},
   "source": [
    "<h4> Download <b>Sentinel-2</b> Data"
   ]
  },
  {
   "cell_type": "code",
   "execution_count": 2,
   "id": "level-overview",
   "metadata": {
    "collapsed": true
   },
   "outputs": [
    {
     "ename": "NameError",
     "evalue": "name 'download_s2' is not defined",
     "output_type": "error",
     "traceback": [
      "\u001b[0;31m---------------------------------------------------------------------------\u001b[0m",
      "\u001b[0;31mNameError\u001b[0m                                 Traceback (most recent call last)",
      "\u001b[0;32m<ipython-input-2-4cdd2f4c2475>\u001b[0m in \u001b[0;36m<module>\u001b[0;34m\u001b[0m\n\u001b[1;32m     19\u001b[0m \u001b[0;34m\u001b[0m\u001b[0m\n\u001b[1;32m     20\u001b[0m \u001b[0;31m# call method\u001b[0m\u001b[0;34m\u001b[0m\u001b[0;34m\u001b[0m\u001b[0;34m\u001b[0m\u001b[0m\n\u001b[0;32m---> 21\u001b[0;31m \u001b[0mdownload_s2\u001b[0m\u001b[0;34m(\u001b[0m\u001b[0mtiles\u001b[0m\u001b[0;34m,\u001b[0m\u001b[0mstart_date\u001b[0m\u001b[0;34m,\u001b[0m\u001b[0mend_date\u001b[0m\u001b[0;34m,\u001b[0m\u001b[0mout_dir\u001b[0m\u001b[0;34m,\u001b[0m\u001b[0musername\u001b[0m\u001b[0;34m,\u001b[0m\u001b[0mpassword\u001b[0m\u001b[0;34m,\u001b[0m\u001b[0mcloud_cover\u001b[0m\u001b[0;34m)\u001b[0m\u001b[0;34m\u001b[0m\u001b[0;34m\u001b[0m\u001b[0m\n\u001b[0m\u001b[1;32m     22\u001b[0m \u001b[0;34m\u001b[0m\u001b[0m\n\u001b[1;32m     23\u001b[0m \u001b[0;31m# unzip\u001b[0m\u001b[0;34m\u001b[0m\u001b[0;34m\u001b[0m\u001b[0;34m\u001b[0m\u001b[0m\n",
      "\u001b[0;31mNameError\u001b[0m: name 'download_s2' is not defined"
     ]
    }
   ],
   "source": [
    "# start date for downloading\n",
    "start_date = '2017-07-01'\n",
    "\n",
    "# end period for downloading\n",
    "end_date = '2017-07-07'\n",
    "\n",
    "# tiles to be downloaded\n",
    "tiles = ['31UFT']\n",
    "\n",
    "# output directory\n",
    "out_dir = '/home/noa/Desktop/paper/datacap/data/s2'\n",
    "\n",
    "# credentials\n",
    "username = 'test'\n",
    "password = 'test'\n",
    "\n",
    "# maximum cloud cover\n",
    "cloud_cover = '90'\n",
    "\n",
    "# call method\n",
    "download_s2(tiles,start_date,end_date,out_dir,username,password,cloud_cover)\n",
    "\n",
    "# unzip \n",
    "for tile in tiles:\n",
    "    for month in os.listdir(os.path.join(out_dir,year,tile)):\n",
    "        os.chdir(os.path.join(out_dir,year,tile,month))\n",
    "        os.system('unzip \\*.zip')\n",
    "        os.system('rm *.zip')\n",
    "\n",
    "os.chdir(out_dir)"
   ]
  },
  {
   "cell_type": "markdown",
   "id": "valid-socket",
   "metadata": {},
   "source": [
    "## Step 2 - Preprocess Data\n",
    "As the data has been downloaded, there is the need for basic corrections and generations of new products. \n",
    "* Sentinel-1\n",
    "    * Generation of BackScatters\n",
    "    * Generation of Coherence\n",
    "* Sentinel-2\n",
    "    * Resample, Reproject and Generation of GeoTIFFs\n",
    "   "
   ]
  },
  {
   "cell_type": "code",
   "execution_count": null,
   "id": "alike-liver",
   "metadata": {},
   "outputs": [],
   "source": [
    "clip = False\n",
    "if clip:\n",
    "    bbox = [0,1,0,1] # xmin,ymin,xmax,ymax in EPSG:3857\n",
    "for tile in tiles:\n",
    "    ws = os.path.join(out_dir,year,tile)\n",
    "    preprocess_s2(ws)"
   ]
  },
  {
   "cell_type": "markdown",
   "id": "mounted-round",
   "metadata": {},
   "source": [
    "## Step 3 - Feature Space Creation"
   ]
  },
  {
   "cell_type": "code",
   "execution_count": null,
   "id": "friendly-sweden",
   "metadata": {},
   "outputs": [],
   "source": [
    "# set the required parameters\n",
    "ws = '/data2/netherlands/'\n",
    "filename = '/data2/netherlands/shapefiles/lpis_dandrimond_3857.shp'\n",
    "column_id = 'id'\n",
    "column_cropType = 'CAT_GEWASC'\n",
    "time1 = '2017-03-01'\n",
    "time2 = '2017-12-31'\n",
    "dates = get_dates(time1,time2)\n",
    "method = 'object' # pixel-based or object-based\n",
    "generate_feature_space_preload(dates,filename,outfile=ws,colID=column_id,colType=column_cropType,timeStart=time1,timeEnd=time2,classficationType=method,sentinel1=False,sentinel2=True)"
   ]
  }
 ],
 "metadata": {
  "kernelspec": {
   "display_name": "Python 3",
   "language": "python",
   "name": "python3"
  },
  "language_info": {
   "codemirror_mode": {
    "name": "ipython",
    "version": 3
   },
   "file_extension": ".py",
   "mimetype": "text/x-python",
   "name": "python",
   "nbconvert_exporter": "python",
   "pygments_lexer": "ipython3",
   "version": "3.6.13"
  }
 },
 "nbformat": 4,
 "nbformat_minor": 5
}
