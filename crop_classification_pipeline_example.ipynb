{
 "cells": [
  {
   "cell_type": "markdown",
   "id": "adjacent-wages",
   "metadata": {},
   "source": [
    "# Crop Classification\n",
    "The current notebooks presents a real-life CAP scenario related to crop classification utilizing Open Data Cube and Sentine Data. It is fully automated as the entire pipeline starting from downloading products to validating the results takes places via Python. Please check README file for the required step of setting up the Open Data Cube and installing the required libraries"
   ]
  },
  {
   "cell_type": "markdown",
   "id": "portable-amplifier",
   "metadata": {},
   "source": [
    "![alt text](https://www.mdpi.com/remotesensing/remotesensing-10-00911/article_deploy/html/images/remotesensing-10-00911-g005.png)"
   ]
  },
  {
   "cell_type": "markdown",
   "id": "photographic-writer",
   "metadata": {},
   "source": [
    "## Core Functionalities of the Scenario\n",
    "1. Download Sentinel data\n",
    "2. Preprocess Data\n",
    "3. Index Data to the ODC\n",
    "4. Create Feature Space\n",
    "5. Classification\n",
    "6. Validation"
   ]
  },
  {
   "cell_type": "code",
   "execution_count": 4,
   "id": "inappropriate-costa",
   "metadata": {},
   "outputs": [],
   "source": [
    "from utilities.agri_utilities import *"
   ]
  },
  {
   "cell_type": "code",
   "execution_count": null,
   "id": "operating-difficulty",
   "metadata": {},
   "outputs": [],
   "source": []
  }
 ],
 "metadata": {
  "kernelspec": {
   "display_name": "Python 3",
   "language": "python",
   "name": "python3"
  },
  "language_info": {
   "codemirror_mode": {
    "name": "ipython",
    "version": 3
   },
   "file_extension": ".py",
   "mimetype": "text/x-python",
   "name": "python",
   "nbconvert_exporter": "python",
   "pygments_lexer": "ipython3",
   "version": "3.6.13"
  }
 },
 "nbformat": 4,
 "nbformat_minor": 5
}
