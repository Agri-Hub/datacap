{
 "cells": [
  {
   "cell_type": "markdown",
   "id": "adjacent-wages",
   "metadata": {},
   "source": [
    "# Crop Classification\n",
    "The current notebooks presents a real-life CAP scenario related to crop classification utilizing Open Data Cube and Sentinel Data. It is fully automated as the entire pipeline starting from downloading products to validating the results takes places via Python. Please check README file for the required step of setting up the Open Data Cube and installing the required libraries"
   ]
  },
  {
   "cell_type": "markdown",
   "id": "portable-amplifier",
   "metadata": {},
   "source": [
    "![alt text](https://www.mdpi.com/remotesensing/remotesensing-10-00911/article_deploy/html/images/remotesensing-10-00911-g005.png)"
   ]
  },
  {
   "cell_type": "markdown",
   "id": "photographic-writer",
   "metadata": {},
   "source": [
    "## Core Functionalities of the Scenario\n",
    "1. Download Sentinel data\n",
    "2. Preprocess Data\n",
    "3. Index Data to the ODC\n",
    "4. Create Feature Space\n",
    "5. Classification\n",
    "6. Validation"
   ]
  },
  {
   "cell_type": "code",
   "execution_count": null,
   "id": "inappropriate-costa",
   "metadata": {},
   "outputs": [],
   "source": [
    "from utilities.agri_utilities import *\n",
    "from utilities.utils import *"
   ]
  },
  {
   "cell_type": "markdown",
   "id": "assigned-narrative",
   "metadata": {},
   "source": [
    "## Step 1 - Download data\n",
    "Sentinel-1 or/and Sentinel-2 data are required so to monitor CAP. Thus, we need to download data from one of the many sources. CreoDIAS has been selected as the primary source for downloading data as it provides a long archive of both Sentinel-1 and Sentinel-2 products. \n",
    "\n",
    "![alt text](https://creodias.eu/documents/20195/78174/d2.png/6055d468-0e19-4014-b828-a753da4a0e03?t=1555324588302)\n",
    "\n",
    "\n",
    "To use this function users must register to CreoDIAs in order to gain access based on credentials. When the download is finished, the structure of files in the output directory is the following:\n",
    "* year\n",
    "    * tile name\n",
    "        * month\n",
    "            * safe folders"
   ]
  },
  {
   "cell_type": "code",
   "execution_count": null,
   "id": "level-overview",
   "metadata": {},
   "outputs": [],
   "source": [
    "# start date for downloading\n",
    "start_date = '2017-07-01'\n",
    "\n",
    "# end period for downloading\n",
    "end_date = '2017-07-07'\n",
    "\n",
    "# tiles to be downloaded\n",
    "tiles = ['31UFT']\n",
    "\n",
    "# output directory\n",
    "out_dir = '/home/noa/Desktop/paper/datacap/data/s2'\n",
    "\n",
    "# credentials\n",
    "username = 'test'\n",
    "password = 'test'\n",
    "\n",
    "# maximum cloud cover\n",
    "cloud_cover = '90'\n",
    "\n",
    "# call method\n",
    "download_s2(tiles,start_date,end_date,out_dir,username,password,cloud_cover)"
   ]
  },
  {
   "cell_type": "code",
   "execution_count": null,
   "id": "superb-keyboard",
   "metadata": {},
   "outputs": [],
   "source": [
    "import requests"
   ]
  },
  {
   "cell_type": "code",
   "execution_count": null,
   "id": "alike-liver",
   "metadata": {},
   "outputs": [],
   "source": []
  }
 ],
 "metadata": {
  "kernelspec": {
   "display_name": "Python 3",
   "language": "python",
   "name": "python3"
  },
  "language_info": {
   "codemirror_mode": {
    "name": "ipython",
    "version": 3
   },
   "file_extension": ".py",
   "mimetype": "text/x-python",
   "name": "python",
   "nbconvert_exporter": "python",
   "pygments_lexer": "ipython3",
   "version": "3.6.13"
  }
 },
 "nbformat": 4,
 "nbformat_minor": 5
}
